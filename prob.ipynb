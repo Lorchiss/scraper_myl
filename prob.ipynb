{
 "cells": [
  {
   "cell_type": "code",
   "execution_count": 86,
   "metadata": {},
   "outputs": [],
   "source": [
    "from manager import Mazo, Oro,Aliado, Arma, Talisman,Totem\n",
    "import random\n",
    "import pandas as pd\n",
    "mazo_eterno = Mazo()\n",
    "mazo_eterno.add_oro_inicial(Oro(\"Las Partidas\",\"\"))\n",
    "mazo_eterno.add_card(Oro(\"Aegishjalmur\",\"\"))\n",
    "mazo_eterno.add_card(Oro(\"Bracteate\",\"\"))\n",
    "mazo_eterno.add_card(Oro(\"Futhark Antiguo\",\"\"))\n",
    "mazo_eterno.add_card(Oro(\"Alicanto\",\"\"))\n",
    "mazo_eterno.add_card(Oro(\"Cuerno de Pólvora\",\"\"))\n",
    "mazo_eterno.add_card(Oro(\"Gullgubber\",\"\"))\n",
    "mazo_eterno.add_card(Oro(\"Manzanas Doradas\",\"\"))\n",
    "mazo_eterno.add_card(Oro(\"Manzanas Doradas\",\"\"))\n",
    "mazo_eterno.add_card(Oro(\"Amuleto de Thor\",\"\"))\n",
    "mazo_eterno.add_card(Oro(\"Laterna\",\"\"))\n",
    "mazo_eterno.add_card(Oro(\"Laterna\",\"\"))\n",
    "mazo_eterno.add_card(Oro(\"Parche Pirata\",\"\"))\n",
    "mazo_eterno.add_card(Oro(\"Puertas del Valhalla\",\"\"))\n",
    "mazo_eterno.add_card(Oro(\"Nycticorax\",\"\"))\n",
    "mazo_eterno.add_card(Arma(\"Espada Vikinga\",\"\",1))\n",
    "mazo_eterno.add_card(Talisman(\"Hacer el Bien\",\"\",1))\n",
    "mazo_eterno.add_card(Talisman(\"Destruir el Puerto\",\"\",2))\n",
    "mazo_eterno.add_card(Talisman(\"Blasfemia\",\"\",1))\n",
    "mazo_eterno.add_card(Talisman(\"Fantasmas del Desierto\",\"\",1))\n",
    "mazo_eterno.add_card(Talisman(\"Trempulcahue\",\"\",2))\n",
    "mazo_eterno.add_card(Talisman(\"Jack en el Verde\",\"\",1))\n",
    "mazo_eterno.add_card(Talisman(\"Expulsión\",\"\",1))\n",
    "mazo_eterno.add_card(Talisman(\"Nav\",\"\",0))\n",
    "mazo_eterno.add_card(Talisman(\"Ahí Viene la Reina\",\"\",0))\n",
    "mazo_eterno.add_card(Talisman(\"Caída del Arcángel\",\"\",1))\n",
    "mazo_eterno.add_card(Talisman(\"Caligrafía\",\"\",1))\n",
    "mazo_eterno.add_card(Talisman(\"Caligrafía\",\"\",1))\n",
    "mazo_eterno.add_card(Totem(\"Templo de Uppsala\",\"\",1))\n",
    "mazo_eterno.add_card(Totem(\"Templo de Uppsala\",\"\",1))\n",
    "mazo_eterno.add_card(Totem(\"Templo de Uppsala\",\"\",1))\n",
    "mazo_eterno.add_card(Totem(\"Califato de Córdoba\",\"\",1))\n",
    "mazo_eterno.add_card(Aliado(\"San Jorge\",\"\",3,1))\n",
    "mazo_eterno.add_card(Aliado(\"San Jorge\",\"\",3,1))\n",
    "mazo_eterno.add_card(Aliado(\"San Jorge\",\"\",3,1))\n",
    "mazo_eterno.add_card(Aliado(\"Cronos\",\"\",5,3))\n",
    "mazo_eterno.add_card(Aliado(\"Santiago\",\"\",0,1))\n",
    "mazo_eterno.add_card(Aliado(\"Heindal\",\"\",3,1))\n",
    "mazo_eterno.add_card(Aliado(\"Heindal\",\"\",3,1))\n",
    "mazo_eterno.add_card(Aliado(\"Antiguo\",\"\",0,1))\n",
    "mazo_eterno.add_card(Aliado(\"Al-Qaum\",\"\",3,1))\n",
    "mazo_eterno.add_card(Aliado(\"Tulzcka\",\"\",3,1))\n",
    "mazo_eterno.add_card(Aliado(\"Lugus\",\"\",3,1))\n",
    "mazo_eterno.add_card(Aliado(\"Arzael el Destructor\",\"\",3,1))\n",
    "mazo_eterno.add_card(Aliado(\"Arzael el Destructor\",\"\",3,1))\n",
    "mazo_eterno.add_card(Aliado(\"Arzael el Destructor\",\"\",3,1))\n",
    "mazo_eterno.add_card(Aliado(\"Lilith\",\"\",3,1))\n",
    "mazo_eterno.add_card(Aliado(\"Sombrerero Loco\",\"\",3,1))\n",
    "mazo_eterno.add_card(Aliado(\"Eolos\",\"\",3,1))\n",
    "mazo_eterno.add_card(Aliado(\"Odin\",\"\",3,1))\n",
    "\n",
    "mazo_eterno.mezclar_mazo()\n",
    "\n"
   ]
  },
  {
   "cell_type": "code",
   "execution_count": 87,
   "metadata": {},
   "outputs": [
    {
     "data": {
      "text/plain": [
       "49"
      ]
     },
     "execution_count": 87,
     "metadata": {},
     "output_type": "execute_result"
    }
   ],
   "source": [
    "mazo_eterno.count()\n"
   ]
  },
  {
   "cell_type": "code",
   "execution_count": 88,
   "metadata": {},
   "outputs": [
    {
     "data": {
      "text/plain": [
       "49"
      ]
     },
     "execution_count": 88,
     "metadata": {},
     "output_type": "execute_result"
    }
   ],
   "source": [
    "pivot_mazo = mazo_eterno.copy()\n",
    "pivot_mazo.count()\n",
    "\n"
   ]
  },
  {
   "cell_type": "code",
   "execution_count": 89,
   "metadata": {},
   "outputs": [],
   "source": [
    "casos = {}\n",
    "num_casos = 9999\n",
    "for i in range(num_casos):\n",
    "    casos[i] = random.sample(pivot_mazo.cartas, pivot_mazo.mulligan)"
   ]
  },
  {
   "cell_type": "code",
   "execution_count": 90,
   "metadata": {},
   "outputs": [],
   "source": [
    "def buscar_san_jorge(mano):\n",
    "    for i in mano:\n",
    "        if i.tipo == 'Aliado':\n",
    "            if i.nombre == \"San Jorge\":\n",
    "                #print(i.nombre)\n",
    "                return True\n",
    "    return False\n",
    "\n",
    "def buscar_oro_finder(mano):\n",
    "    for i in mano:\n",
    "        if i.tipo == 'Oro':\n",
    "            if i.nombre == \"Amuleto de Thor\" or i.nombre == \"Laterna\":\n",
    "                #print(i.nombre)\n",
    "                return True\n",
    "    return False\n",
    "\n",
    "def buscar_2_oros(mano):\n",
    "    oros = 0\n",
    "    for i in mano:\n",
    "        if i.tipo == 'Oro':\n",
    "            oros+=1\n",
    "    if oros >= 2:\n",
    "        #print('tiene 2 o mas oros')\n",
    "        return True\n",
    "    return False\n"
   ]
  },
  {
   "cell_type": "code",
   "execution_count": 91,
   "metadata": {},
   "outputs": [],
   "source": [
    "hash_table = pd.DataFrame()\n",
    "\n",
    "for i in range(len(casos)):\n",
    "    new = pd.DataFrame()\n",
    "    if buscar_san_jorge(casos[i]):\n",
    "        if buscar_oro_finder(casos[i]) or buscar_2_oros(casos[i]):\n",
    "            new['exito'] = pd.Series([1])\n",
    "            #print('que xuxa')\n",
    "        else:\n",
    "            new['exito'] = pd.Series([0])\n",
    "    else:\n",
    "        new['exito'] = pd.Series([0])\n",
    "\n",
    "    hash_table = pd.concat([hash_table,new], ignore_index=True)"
   ]
  },
  {
   "cell_type": "code",
   "execution_count": 92,
   "metadata": {},
   "outputs": [
    {
     "data": {
      "text/plain": [
       "0.30953095309530954"
      ]
     },
     "execution_count": 92,
     "metadata": {},
     "output_type": "execute_result"
    }
   ],
   "source": [
    "\n",
    "cf = hash_table['exito'].value_counts()[1]\n",
    "p = cf/num_casos\n",
    "p"
   ]
  }
 ],
 "metadata": {
  "kernelspec": {
   "display_name": "Python 3",
   "language": "python",
   "name": "python3"
  },
  "language_info": {
   "codemirror_mode": {
    "name": "ipython",
    "version": 3
   },
   "file_extension": ".py",
   "mimetype": "text/x-python",
   "name": "python",
   "nbconvert_exporter": "python",
   "pygments_lexer": "ipython3",
   "version": "3.11.3"
  },
  "orig_nbformat": 4
 },
 "nbformat": 4,
 "nbformat_minor": 2
}
